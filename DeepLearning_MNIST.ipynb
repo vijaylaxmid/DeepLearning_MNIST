{
  "nbformat": 4,
  "nbformat_minor": 0,
  "metadata": {
    "colab": {
      "name": "DeepLearning_MNIST.ipynb",
      "provenance": [],
      "collapsed_sections": []
    },
    "kernelspec": {
      "name": "python3",
      "display_name": "Python 3"
    },
    "accelerator": "GPU"
  },
  "cells": [
    {
      "cell_type": "code",
      "metadata": {
        "id": "7H6LbJNY590h",
        "colab_type": "code",
        "colab": {}
      },
      "source": [
        "import numpy as np\n"
      ],
      "execution_count": 0,
      "outputs": []
    },
    {
      "cell_type": "markdown",
      "metadata": {
        "id": "00Ep4rd76qOL",
        "colab_type": "text"
      },
      "source": [
        "**Using MNIST dataset**"
      ]
    },
    {
      "cell_type": "code",
      "metadata": {
        "id": "8FVtxqeW6c_9",
        "colab_type": "code",
        "colab": {
          "base_uri": "https://localhost:8080/",
          "height": 80
        },
        "outputId": "fb8a282d-e2f2-4eae-a4b2-00304d09fcbc"
      },
      "source": [
        "from keras.datasets import mnist"
      ],
      "execution_count": 2,
      "outputs": [
        {
          "output_type": "stream",
          "text": [
            "Using TensorFlow backend.\n"
          ],
          "name": "stderr"
        },
        {
          "output_type": "display_data",
          "data": {
            "text/html": [
              "<p style=\"color: red;\">\n",
              "The default version of TensorFlow in Colab will soon switch to TensorFlow 2.x.<br>\n",
              "We recommend you <a href=\"https://www.tensorflow.org/guide/migrate\" target=\"_blank\">upgrade</a> now \n",
              "or ensure your notebook will continue to use TensorFlow 1.x via the <code>%tensorflow_version 1.x</code> magic:\n",
              "<a href=\"https://colab.research.google.com/notebooks/tensorflow_version.ipynb\" target=\"_blank\">more info</a>.</p>\n"
            ],
            "text/plain": [
              "<IPython.core.display.HTML object>"
            ]
          },
          "metadata": {
            "tags": []
          }
        }
      ]
    },
    {
      "cell_type": "code",
      "metadata": {
        "id": "BWp3WqQu68Fl",
        "colab_type": "code",
        "colab": {
          "base_uri": "https://localhost:8080/",
          "height": 51
        },
        "outputId": "9a1b8fba-0999-4d32-fb42-4065b67a1f9d"
      },
      "source": [
        "(x_train, y_train), (x_test, y_test) = mnist.load_data()"
      ],
      "execution_count": 3,
      "outputs": [
        {
          "output_type": "stream",
          "text": [
            "Downloading data from https://s3.amazonaws.com/img-datasets/mnist.npz\n",
            "11493376/11490434 [==============================] - 2s 0us/step\n"
          ],
          "name": "stdout"
        }
      ]
    },
    {
      "cell_type": "code",
      "metadata": {
        "id": "tjHRsUKW-cKa",
        "colab_type": "code",
        "outputId": "18982901-2104-4e1c-cfff-c0e01b766c64",
        "colab": {
          "base_uri": "https://localhost:8080/",
          "height": 268
        }
      },
      "source": [
        "\n",
        "import matplotlib.pyplot as plt\n",
        "# create a grid of 3x3 images\n",
        "for i in range(0, 9):\n",
        "\tplt.subplot(330 + 1 + i)\n",
        "\tplt.imshow(x_train[i], cmap=plt.get_cmap('gray'))\n",
        "# show the plot\n",
        "plt.show()"
      ],
      "execution_count": 4,
      "outputs": [
        {
          "output_type": "display_data",
          "data": {
            "image/png": "[encoded data removed]",
            "text/plain": [
              "<Figure size 432x288 with 9 Axes>"
            ]
          },
          "metadata": {
            "tags": []
          }
        }
      ]
    },
    {
      "cell_type": "markdown",
      "metadata": {
        "id": "DzyXqmyQeVO_",
        "colab_type": "text"
      },
      "source": [
        "**Image Auementation**\n"
      ]
    },
    {
      "cell_type": "markdown",
      "metadata": {
        "id": "zbQaxXJLez4q",
        "colab_type": "text"
      },
      "source": [
        "**Feature Standardization**"
      ]
    },
    {
      "cell_type": "code",
      "metadata": {
        "id": "1UGNi8dOdNXr",
        "colab_type": "code",
        "colab": {
          "base_uri": "https://localhost:8080/",
          "height": 268
        },
        "outputId": "b7ee6495-cae3-402c-eef7-1abfec785a82"
      },
      "source": [
        "from keras.preprocessing.image import ImageDataGenerator\n",
        "# define data preparation\n",
        "datagen = ImageDataGenerator(featurewise_center=True, featurewise_std_normalization=True)\n",
        "# reshape to be [samples][width][height][channels]\n",
        "x_train = x_train.reshape((x_train.shape[0], 28, 28, 1))\n",
        "x_test = x_test.reshape((x_test.shape[0], 28, 28, 1))\n",
        "# fit parameters from data\n",
        "datagen.fit(x_train)\n",
        "# configure batch size and retrieve one batch of images\n",
        "for X_batch, y_batch in datagen.flow(x_train, y_train, batch_size = 9):\n",
        "\t# create a grid of 3x3 images\n",
        "\tfor i in range(0, 9):\n",
        "\t\tplt.subplot(330 + 1 + i)\n",
        "\t\tplt.imshow(X_batch[i].reshape(28, 28), cmap=plt.get_cmap('gray'))\n",
        "\t# show the plot\n",
        "\tplt.show()\n",
        "\tbreak"
      ],
      "execution_count": 33,
      "outputs": [
        {
          "output_type": "display_data",
          "data": {
            "image/png": "[encoded data removed]",
            "text/plain": [
              "<Figure size 432x288 with 9 Axes>"
            ]
          },
          "metadata": {
            "tags": []
          }
        }
      ]
    },
    {
      "cell_type": "markdown",
      "metadata": {
        "id": "FU1OlZv0fFTV",
        "colab_type": "text"
      },
      "source": [
        "***Code Whitening***"
      ]
    },
    {
      "cell_type": "code",
      "metadata": {
        "id": "8CRLaHsNfHC8",
        "colab_type": "code",
        "colab": {
          "base_uri": "https://localhost:8080/",
          "height": 322
        },
        "outputId": "ace949ca-09e7-4ed9-985d-1ef67ea9b666"
      },
      "source": [
        "datagen = ImageDataGenerator(zca_whitening=True)\n",
        "# fit parameters from data\n",
        "datagen.fit(x_train)\n",
        "# configure batch size and retrieve one batch of images\n",
        "for X_batch, y_batch in datagen.flow(x_train, y_train, batch_size=9):\n",
        "\t# create a grid of 3x3 images\n",
        "\tfor i in range(0, 9):\n",
        "\t\tplt.subplot(330 + 1 + i)\n",
        "\t\tplt.imshow(X_batch[i].reshape(28, 28), cmap=plt.get_cmap('gray'))\n",
        "\t# show the plot\n",
        "\tplt.show()\n",
        "\tbreak"
      ],
      "execution_count": 34,
      "outputs": [
        {
          "output_type": "stream",
          "text": [
            "/usr/local/lib/python3.6/dist-packages/keras_preprocessing/image/image_data_generator.py:336: UserWarning: This ImageDataGenerator specifies `zca_whitening`, which overrides setting of `featurewise_center`.\n",
            "  warnings.warn('This ImageDataGenerator specifies '\n"
          ],
          "name": "stderr"
        },
        {
          "output_type": "display_data",
          "data": {
            "image/png": "[encoded data removed]",
            "text/plain": [
              "<Figure size 432x288 with 9 Axes>"
            ]
          },
          "metadata": {
            "tags": []
          }
        }
      ]
    },
    {
      "cell_type": "markdown",
      "metadata": {
        "id": "pMWCUdp5fXj8",
        "colab_type": "text"
      },
      "source": [
        "***Random Rotations***"
      ]
    },
    {
      "cell_type": "code",
      "metadata": {
        "id": "0ENqs1t5fa-g",
        "colab_type": "code",
        "colab": {
          "base_uri": "https://localhost:8080/",
          "height": 268
        },
        "outputId": "cd381396-37b9-4a77-b42a-39f09c5b941a"
      },
      "source": [
        "datagen = ImageDataGenerator(rotation_range=90)\n",
        "# fit parameters from data\n",
        "datagen.fit(x_train)\n",
        "# configure batch size and retrieve one batch of images\n",
        "for X_batch, y_batch in datagen.flow(x_train, y_train, batch_size=9):\n",
        "\t# create a grid of 3x3 images\n",
        "\tfor i in range(0, 9):\n",
        "\t\tplt.subplot(330 + 1 + i)\n",
        "\t\tplt.imshow(X_batch[i].reshape(28, 28), cmap=plt.get_cmap('gray'))\n",
        "\t# show the plot\n",
        "\tplt.show()\n",
        "\tbreak"
      ],
      "execution_count": 35,
      "outputs": [
        {
          "output_type": "display_data",
          "data": {
            "image/png": "[encoded data removed]",
            "text/plain": [
              "<Figure size 432x288 with 9 Axes>"
            ]
          },
          "metadata": {
            "tags": []
          }
        }
      ]
    },
    {
      "cell_type": "markdown",
      "metadata": {
        "id": "Y1JSeLWyfvQT",
        "colab_type": "text"
      },
      "source": [
        "***Random Shifts***"
      ]
    },
    {
      "cell_type": "code",
      "metadata": {
        "id": "Bt0C8gV-fxyD",
        "colab_type": "code",
        "colab": {
          "base_uri": "https://localhost:8080/",
          "height": 268
        },
        "outputId": "aad93984-d989-4fa5-b072-d91fb3e52676"
      },
      "source": [
        "shift = 0.2\n",
        "datagen = ImageDataGenerator(width_shift_range=shift, height_shift_range=shift)\n",
        "# fit parameters from data\n",
        "datagen.fit(x_train)\n",
        "# configure batch size and retrieve one batch of images\n",
        "for X_batch, y_batch in datagen.flow(x_train, y_train, batch_size=9):\n",
        "\t# create a grid of 3x3 images\n",
        "\tfor i in range(0, 9):\n",
        "\t\tplt.subplot(330 + 1 + i)\n",
        "\t\tplt.imshow(X_batch[i].reshape(28, 28), cmap=plt.get_cmap('gray'))\n",
        "\t# show the plot\n",
        "\tplt.show()\n",
        "\tbreak"
      ],
      "execution_count": 36,
      "outputs": [
        {
          "output_type": "display_data",
          "data": {
            "image/png": "[encoded data removed]",
            "text/plain": [
              "<Figure size 432x288 with 9 Axes>"
            ]
          },
          "metadata": {
            "tags": []
          }
        }
      ]
    },
    {
      "cell_type": "markdown",
      "metadata": {
        "id": "_kKaUhgIf8zY",
        "colab_type": "text"
      },
      "source": [
        "***Random Flips***"
      ]
    },
    {
      "cell_type": "code",
      "metadata": {
        "id": "UFlW3-PYgA4x",
        "colab_type": "code",
        "colab": {
          "base_uri": "https://localhost:8080/",
          "height": 268
        },
        "outputId": "590c19b6-2079-4cf5-c168-09ee8eaadd7e"
      },
      "source": [
        "datagen = ImageDataGenerator(horizontal_flip=True, vertical_flip=True)\n",
        "# fit parameters from data\n",
        "datagen.fit(x_train)\n",
        "# configure batch size and retrieve one batch of images\n",
        "for X_batch, y_batch in datagen.flow(x_train, y_train, batch_size=9):\n",
        "\t# create a grid of 3x3 images\n",
        "\tfor i in range(0, 9):\n",
        "\t\tplt.subplot(330 + 1 + i)\n",
        "\t\tplt.imshow(X_batch[i].reshape(28, 28), cmap=plt.get_cmap('gray'))\n",
        "\t# show the plot\n",
        "\tplt.show()\n",
        "\tbreak"
      ],
      "execution_count": 37,
      "outputs": [
        {
          "output_type": "display_data",
          "data": {
            "image/png": "[encoded data removed]",
            "text/plain": [
              "<Figure size 432x288 with 9 Axes>"
            ]
          },
          "metadata": {
            "tags": []
          }
        }
      ]
    },
    {
      "cell_type": "markdown",
      "metadata": {
        "id": "nh5QPF7rgKMF",
        "colab_type": "text"
      },
      "source": [
        "***Saving augmented images to file***"
      ]
    },
    {
      "cell_type": "code",
      "metadata": {
        "id": "LRtUcq6Xfrz5",
        "colab_type": "code",
        "colab": {
          "base_uri": "https://localhost:8080/",
          "height": 268
        },
        "outputId": "c2a2073d-00a0-4294-90b2-6a34bc7be1c6"
      },
      "source": [
        "import os\n",
        "datagen = ImageDataGenerator()\n",
        "# fit parameters from data\n",
        "datagen.fit(x_train)\n",
        "# configure batch size and retrieve one batch of images\n",
        "os.makedirs('images1')\n",
        "for X_batch, y_batch in datagen.flow(x_train, y_train, batch_size=9, save_to_dir='images1', save_prefix='aug', save_format='png'):\n",
        "\t# create a grid of 3x3 images\n",
        "\tfor i in range(0, 9):\n",
        "\t\tplt.subplot(330 + 1 + i)\n",
        "\t\tplt.imshow(X_batch[i].reshape(28, 28), cmap=plt.get_cmap('gray'))\n",
        "\t# show the plot\n",
        "\tplt.show()\n",
        "\tbreak"
      ],
      "execution_count": 42,
      "outputs": [
        {
          "output_type": "display_data",
          "data": {
            "image/png": "[encoded data removed]",
            "text/plain": [
              "<Figure size 432x288 with 9 Axes>"
            ]
          },
          "metadata": {
            "tags": []
          }
        }
      ]
    },
    {
      "cell_type": "code",
      "metadata": {
        "id": "_xj1iBtN7Hzp",
        "colab_type": "code",
        "outputId": "10fd9a76-9bfe-4701-ce50-dac89704c63d",
        "colab": {
          "base_uri": "https://localhost:8080/",
          "height": 34
        }
      },
      "source": [
        "x_train.shape"
      ],
      "execution_count": 43,
      "outputs": [
        {
          "output_type": "execute_result",
          "data": {
            "text/plain": [
              "(60000, 28, 28, 1)"
            ]
          },
          "metadata": {
            "tags": []
          },
          "execution_count": 43
        }
      ]
    },
    {
      "cell_type": "code",
      "metadata": {
        "id": "MQBif-lD7JFb",
        "colab_type": "code",
        "outputId": "9adb183d-41ff-4e60-f94e-0b0c6f380ea4",
        "colab": {
          "base_uri": "https://localhost:8080/",
          "height": 34
        }
      },
      "source": [
        "y_train.shape"
      ],
      "execution_count": 44,
      "outputs": [
        {
          "output_type": "execute_result",
          "data": {
            "text/plain": [
              "(60000,)"
            ]
          },
          "metadata": {
            "tags": []
          },
          "execution_count": 44
        }
      ]
    },
    {
      "cell_type": "code",
      "metadata": {
        "id": "uBk-7Vs_7MHz",
        "colab_type": "code",
        "outputId": "6b3b79d8-1ec5-4da3-caa2-241a9228192c",
        "colab": {
          "base_uri": "https://localhost:8080/",
          "height": 34
        }
      },
      "source": [
        "x_test.shape"
      ],
      "execution_count": 45,
      "outputs": [
        {
          "output_type": "execute_result",
          "data": {
            "text/plain": [
              "(10000, 28, 28, 1)"
            ]
          },
          "metadata": {
            "tags": []
          },
          "execution_count": 45
        }
      ]
    },
    {
      "cell_type": "markdown",
      "metadata": {
        "id": "OohTD0r1pnJI",
        "colab_type": "text"
      },
      "source": [
        "***Normalizing the pixel data***"
      ]
    },
    {
      "cell_type": "code",
      "metadata": {
        "id": "YgK9BogF7R2U",
        "colab_type": "code",
        "colab": {}
      },
      "source": [
        "images, labels = x_train.reshape(x_train.shape[0], 28*28)/255, y_train"
      ],
      "execution_count": 0,
      "outputs": []
    },
    {
      "cell_type": "code",
      "metadata": {
        "id": "eaz-mLiE7UGN",
        "colab_type": "code",
        "outputId": "2d0457a2-90e3-4cbc-ac7f-2c1ee3152e10",
        "colab": {
          "base_uri": "https://localhost:8080/",
          "height": 34
        }
      },
      "source": [
        "x_train[:1].shape"
      ],
      "execution_count": 47,
      "outputs": [
        {
          "output_type": "execute_result",
          "data": {
            "text/plain": [
              "(1, 28, 28, 1)"
            ]
          },
          "metadata": {
            "tags": []
          },
          "execution_count": 47
        }
      ]
    },
    {
      "cell_type": "markdown",
      "metadata": {
        "id": "UHqe6CI0pwhB",
        "colab_type": "text"
      },
      "source": [
        ""
      ]
    },
    {
      "cell_type": "code",
      "metadata": {
        "id": "AErRYyaX7mQm",
        "colab_type": "code",
        "outputId": "578e2c5c-1537-40b1-c1e5-456952363d81",
        "colab": {
          "base_uri": "https://localhost:8080/",
          "height": 34
        }
      },
      "source": [
        "images.shape"
      ],
      "execution_count": 48,
      "outputs": [
        {
          "output_type": "execute_result",
          "data": {
            "text/plain": [
              "(60000, 784)"
            ]
          },
          "metadata": {
            "tags": []
          },
          "execution_count": 48
        }
      ]
    },
    {
      "cell_type": "markdown",
      "metadata": {
        "id": "apgWePDVpuG9",
        "colab_type": "text"
      },
      "source": [
        "***one hot encoding of labels***"
      ]
    },
    {
      "cell_type": "code",
      "metadata": {
        "id": "pR7o2KXe7xqV",
        "colab_type": "code",
        "colab": {}
      },
      "source": [
        "\n",
        "one_hot_labels = np.zeros((len(labels), 10))"
      ],
      "execution_count": 0,
      "outputs": []
    },
    {
      "cell_type": "code",
      "metadata": {
        "id": "AerB63n47y6t",
        "colab_type": "code",
        "outputId": "3bd4162f-a8ce-4d99-8313-3c0538e60ef8",
        "colab": {
          "base_uri": "https://localhost:8080/",
          "height": 34
        }
      },
      "source": [
        "one_hot_labels[:1]"
      ],
      "execution_count": 50,
      "outputs": [
        {
          "output_type": "execute_result",
          "data": {
            "text/plain": [
              "array([[0., 0., 0., 0., 0., 0., 0., 0., 0., 0.]])"
            ]
          },
          "metadata": {
            "tags": []
          },
          "execution_count": 50
        }
      ]
    },
    {
      "cell_type": "code",
      "metadata": {
        "id": "2Vs8MoNM71jh",
        "colab_type": "code",
        "colab": {}
      },
      "source": [
        "for i , l in enumerate(labels):\n",
        "    one_hot_labels[i][l] = 1"
      ],
      "execution_count": 0,
      "outputs": []
    },
    {
      "cell_type": "code",
      "metadata": {
        "id": "Q_ao-aN4747f",
        "colab_type": "code",
        "colab": {}
      },
      "source": [
        "labels = one_hot_labels"
      ],
      "execution_count": 0,
      "outputs": []
    },
    {
      "cell_type": "code",
      "metadata": {
        "id": "UJCKVUdd79g5",
        "colab_type": "code",
        "outputId": "da18381b-3ba7-4126-93ed-e7084570436d",
        "colab": {
          "base_uri": "https://localhost:8080/",
          "height": 51
        }
      },
      "source": [
        "labels[:2]"
      ],
      "execution_count": 53,
      "outputs": [
        {
          "output_type": "execute_result",
          "data": {
            "text/plain": [
              "array([[0., 0., 0., 0., 0., 1., 0., 0., 0., 0.],\n",
              "       [1., 0., 0., 0., 0., 0., 0., 0., 0., 0.]])"
            ]
          },
          "metadata": {
            "tags": []
          },
          "execution_count": 53
        }
      ]
    },
    {
      "cell_type": "markdown",
      "metadata": {
        "id": "fTdp8_dXp2K5",
        "colab_type": "text"
      },
      "source": [
        "***Normalizing and one hot encoding labels for test data***"
      ]
    },
    {
      "cell_type": "code",
      "metadata": {
        "id": "NF58bmOC8AVg",
        "colab_type": "code",
        "colab": {}
      },
      "source": [
        "test_images, test_labels = x_test.reshape(x_test.shape[0], 28*28)/255, y_test\n",
        "\n",
        "one_hot_labels_test = np.zeros((len(test_labels), 10))\n",
        "\n",
        "for i , l in enumerate(test_labels):\n",
        "    one_hot_labels_test[i][l] = 1\n",
        "test_labels = one_hot_labels_test"
      ],
      "execution_count": 0,
      "outputs": []
    },
    {
      "cell_type": "markdown",
      "metadata": {
        "id": "GdrpOQb78KYN",
        "colab_type": "text"
      },
      "source": [
        "**helper functions for various activations**"
      ]
    },
    {
      "cell_type": "code",
      "metadata": {
        "id": "Xsn55pG48Dcx",
        "colab_type": "code",
        "colab": {}
      },
      "source": [
        "def relu(x):\n",
        "    return (x >= 0) * x"
      ],
      "execution_count": 0,
      "outputs": []
    },
    {
      "cell_type": "code",
      "metadata": {
        "id": "wyxDUqBl8Ri3",
        "colab_type": "code",
        "colab": {}
      },
      "source": [
        "def relu2deriv(output):\n",
        "    return output >= 0"
      ],
      "execution_count": 0,
      "outputs": []
    },
    {
      "cell_type": "code",
      "metadata": {
        "id": "tdnM6KtB8cdy",
        "colab_type": "code",
        "colab": {}
      },
      "source": [
        "def softmax(x):\n",
        "    return np.exp(x) / (np.sum(np.exp(x), axis = 1, keepdims = True ))"
      ],
      "execution_count": 0,
      "outputs": []
    },
    {
      "cell_type": "markdown",
      "metadata": {
        "id": "LqmD9dVi8kYh",
        "colab_type": "text"
      },
      "source": [
        "**alpha is learning rate, 1 hidden layer with 100 neurons**"
      ]
    },
    {
      "cell_type": "code",
      "metadata": {
        "id": "tRCA1O6x8gBG",
        "colab_type": "code",
        "colab": {}
      },
      "source": [
        "alpha, iterations, hidden_size = (0.2, 300, 100)\n",
        "pixels_per_image, num_of_labels  =  784 , 10\n",
        "batch_size = 100  ## using mini -batch to train the model"
      ],
      "execution_count": 0,
      "outputs": []
    },
    {
      "cell_type": "markdown",
      "metadata": {
        "id": "V3R9Ah2N8sdw",
        "colab_type": "text"
      },
      "source": [
        "**weight initialization randomly**"
      ]
    },
    {
      "cell_type": "code",
      "metadata": {
        "id": "VZURiKzi8ot3",
        "colab_type": "code",
        "colab": {}
      },
      "source": [
        "weights_0_1 = 0.02* np.random.random((pixels_per_image, hidden_size)) - 0.01\n",
        "weights_1_2 = 0.02* np.random.random((hidden_size,hidden_size )) - 0.01\n",
        "weights_1_3 = 0.2* np.random.random((hidden_size,num_of_labels )) - 0.1"
      ],
      "execution_count": 0,
      "outputs": []
    },
    {
      "cell_type": "code",
      "metadata": {
        "id": "MKhNPWyR83C4",
        "colab_type": "code",
        "outputId": "d8b629a4-1489-4099-a29d-31fb67cf9326",
        "colab": {
          "base_uri": "https://localhost:8080/",
          "height": 527
        }
      },
      "source": [
        "for j in range(iterations):\n",
        "  \n",
        "    correct_cnt = 0\n",
        "    \n",
        "    ## training phase\n",
        "    for i in range(int(len(images) / batch_size)):\n",
        "      \n",
        "        batch_start, batch_end = (( i * batch_size), ((i+1)* batch_size))\n",
        "        \n",
        "        ## input layer\n",
        "        layer_0 = images[batch_start:batch_end]\n",
        "        \n",
        "        ## hidden layer with relu non -linearity\n",
        "        layer_1 = relu(np.dot(layer_0, weights_0_1))\n",
        "        \n",
        "        layer_2 = relu(np.dot(layer_1, weights_1_2))\n",
        "        \n",
        "        ## adding drop_out to address overfitting\n",
        "        drop_out_mask = np.random.randint(2, size = layer_2.shape)\n",
        "        \n",
        "        layer_2 *= drop_out_mask * 2\n",
        "        \n",
        "        ## output layer with relu activation\n",
        "        layer_3 = relu2deriv(np.dot(layer_2, weights_1_3))\n",
        "        \n",
        "        \n",
        "        ## calculating accuracy in each batch\n",
        "        for k in range(batch_size ):\n",
        "          \n",
        "            correct_cnt += int( np.argmax(layer_3[k:k+1]) ==  np.argmax(labels[batch_start + k: batch_start + k+ 1]) )\n",
        "            \n",
        "        ## optimization using gradient descent\n",
        "        layer_3_delta = (labels[batch_start : batch_end] - layer_3 ) / (batch_size * layer_3.shape[0])\n",
        "        \n",
        "        layer_2_delta = layer_3_delta.dot(weights_1_3.T) * relu2deriv(layer_2)\n",
        "          \n",
        "        layer_1_delta = layer_2_delta.dot(weights_1_2.T) * relu2deriv(layer_1)\n",
        "          \n",
        "        #layer_1_delta *= drop_out_mask\n",
        "        \n",
        "        ## updating weights \n",
        "        weights_1_3 += alpha * layer_2.T.dot(layer_3_delta)\n",
        "        \n",
        "        weights_1_2 += alpha * layer_1.T.dot(layer_2_delta)\n",
        "        \n",
        "        weights_0_1 += alpha * layer_0.T.dot(layer_1_delta)\n",
        "        \n",
        "    ## validation phase\n",
        "    test_correct_cnt = 0 \n",
        "    \n",
        "    for i in range(len(test_images)):\n",
        "        layer_0 = test_images[i:i+1] ## input layer\n",
        "        \n",
        "        layer_1 = relu( np.dot(layer_0, weights_0_1)) ## hidden layer\n",
        "        \n",
        "        layer_2 = relu(np.dot(layer_1, weights_1_2) )\n",
        "        \n",
        "        layer_3 = np.dot(layer_2, weights_1_3)  ## output layer\n",
        "        \n",
        "        test_correct_cnt += int( np.argmax(layer_3) ==  np.argmax(test_labels[i: i+ 1]))\n",
        "  \n",
        "  \n",
        "    if(j % 10 ==0):\n",
        "        print(\"epoch: \" + str(j) + \" Train acc: \" + str(correct_cnt / float(len(images)))  + \" Test acc: \" + str(test_correct_cnt / float(len(test_images))))\n",
        "          "
      ],
      "execution_count": 67,
      "outputs": [
        {
          "output_type": "stream",
          "text": [
            "epoch: 0 Train acc: 0.13621666666666668 Test acc: 0.3651\n",
            "epoch: 10 Train acc: 0.4018 Test acc: 0.8268\n",
            "epoch: 20 Train acc: 0.484 Test acc: 0.8572\n",
            "epoch: 30 Train acc: 0.5366666666666666 Test acc: 0.8724\n",
            "epoch: 40 Train acc: 0.5839 Test acc: 0.8798\n",
            "epoch: 50 Train acc: 0.62225 Test acc: 0.888\n",
            "epoch: 60 Train acc: 0.6497666666666667 Test acc: 0.8893\n",
            "epoch: 70 Train acc: 0.6792 Test acc: 0.8899\n",
            "epoch: 80 Train acc: 0.69745 Test acc: 0.8927\n",
            "epoch: 90 Train acc: 0.7089833333333333 Test acc: 0.8937\n",
            "epoch: 100 Train acc: 0.71535 Test acc: 0.8942\n",
            "epoch: 110 Train acc: 0.7178166666666667 Test acc: 0.8968\n",
            "epoch: 120 Train acc: 0.71865 Test acc: 0.898\n",
            "epoch: 130 Train acc: 0.72245 Test acc: 0.8984\n",
            "epoch: 140 Train acc: 0.7219 Test acc: 0.8978\n",
            "epoch: 150 Train acc: 0.7252666666666666 Test acc: 0.8994\n",
            "epoch: 160 Train acc: 0.7205166666666667 Test acc: 0.9\n",
            "epoch: 170 Train acc: 0.7203166666666667 Test acc: 0.8981\n",
            "epoch: 180 Train acc: 0.7210833333333333 Test acc: 0.8948\n",
            "epoch: 190 Train acc: 0.7224333333333334 Test acc: 0.8943\n",
            "epoch: 200 Train acc: 0.72435 Test acc: 0.8918\n",
            "epoch: 210 Train acc: 0.72375 Test acc: 0.8936\n",
            "epoch: 220 Train acc: 0.7143833333333334 Test acc: 0.8874\n",
            "epoch: 230 Train acc: 0.70995 Test acc: 0.8862\n",
            "epoch: 240 Train acc: 0.7093166666666667 Test acc: 0.8863\n",
            "epoch: 250 Train acc: 0.7158833333333333 Test acc: 0.8869\n",
            "epoch: 260 Train acc: 0.7155833333333333 Test acc: 0.8859\n",
            "epoch: 270 Train acc: 0.7135333333333334 Test acc: 0.8897\n",
            "epoch: 280 Train acc: 0.7142166666666667 Test acc: 0.8876\n",
            "epoch: 290 Train acc: 0.7161 Test acc: 0.8765\n"
          ],
          "name": "stdout"
        }
      ]
    }
  ]
}